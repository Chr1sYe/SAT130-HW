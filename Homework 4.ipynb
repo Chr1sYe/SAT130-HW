{
 "cells": [
  {
   "cell_type": "markdown",
   "id": "f2bc1e29",
   "metadata": {},
   "source": [
    "Q1:\n",
    "    The standard deviation measures the spread or dispersion of the individual data points in a data set relative to the mean of that data set. It tells you how much the data points in a sample or population typically deviate from the mean. A larger standard deviation means that the data points are more spread out, while a smaller standard deviation means that the data points are more concentrated around the mean. The standard error of the mean estimates how much the sample mean (the average of the samples drawn from the population) would be expected to vary if different samples were drawn from the population.\n",
    "It indicates how accurately the sample mean estimates the population mean. A smaller SEM means that the sample mean is a more accurate estimate of the population mean. The SEM decreases as the sample size increases. The standard error of the mean (SEM) is calculated by dividing the standard deviation (SD) by the square root of the sample size: This formula shows that the SEM is directly related to the standard deviation and the sample size. As the sample size increases, the SEM decreases. This means that when the sample size is larger, our estimate of the sample mean as a population mean will be more accurate."
   ]
  },
  {
   "cell_type": "markdown",
   "id": "475e90b9",
   "metadata": {},
   "source": [
    "Q2：\n",
    "Estimation of 95% confidence interval:\n",
    "\n",
    "Based on the assumption of normal distribution: Under normal distribution, about 95% of the data will fall within 1.96 times the standard error of the mean. Usually, for the purpose of simplicity, 2×SEM is used to replace 1.96 times SEM.\n",
    "Explanation: This interval means that if we sample from the population multiple times and calculate the sample mean, 95% of the sample means will fall within this interval. This method is simple and easy, but it assumes that the data is normally distributed or approximately normally distributed."
   ]
  },
  {
   "cell_type": "markdown",
   "id": "3cca2af5",
   "metadata": {},
   "source": [
    "Q3：\n",
    "    1. Repeatedly draw from the original sample (with replacement) through bootstrapped, each time generating a sample of the same size as the original sample. \n",
    "    2. For each bootstrapped sample, calculate its mean, usually repeated thousands of times, to construct the distribution of the sample mean.\n",
    "    3.Based on the distribution of the bootstrapped sample mean, select the 2.5% and 97.5% percentiles as the lower and upper limits of the 95% confidence interval."
   ]
  },
  {
   "cell_type": "code",
   "execution_count": 3,
   "id": "a5e796d3",
   "metadata": {},
   "outputs": [
    {
     "name": "stdout",
     "output_type": "stream",
     "text": [
      "95%CI: (-0.22006284066099324, 0.22304166745257567)\n"
     ]
    }
   ],
   "source": [
    "import numpy as np\n",
    "\n",
    "data = np.random.randn(100)  \n",
    "\n",
    "\n",
    "n_iterations = 10000  \n",
    "n_size = len(data)  \n",
    "means = []\n",
    "\n",
    "\n",
    "for _ in range(n_iterations):\n",
    "\n",
    "    sample = np.random.choice(data, size=n_size, replace=True)\n",
    "\n",
    "    sample_mean = np.mean(sample)\n",
    "    means.append(sample_mean)\n",
    "\n",
    "\n",
    "lower_bound = np.percentile(means, 2.5)  \n",
    "upper_bound = np.percentile(means, 97.5)  \n",
    "\n",
    "\n",
    "print(f\"95%CI: ({lower_bound}, {upper_bound})\")\n"
   ]
  },
  {
   "cell_type": "code",
   "execution_count": 6,
   "id": "1b1584a0",
   "metadata": {},
   "outputs": [
    {
     "name": "stdout",
     "output_type": "stream",
     "text": [
      "Bootstrap 95% Confidence Interval for the Mean: (12.0, 14.1)\n",
      "Bootstrap 95% Confidence Interval for the Median: (12.0, 14.5)\n"
     ]
    }
   ],
   "source": [
    "#Q4\n",
    "import numpy as np\n",
    "\n",
    "# Define the function to compute bootstrap confidence intervals\n",
    "def bootstrap_confidence_interval(data, statistic_func, n_bootstrap=10000, ci=95):\n",
    "    \"\"\"\n",
    "    Calculate a bootstrap confidence interval for a given statistic.\n",
    "    \n",
    "    Parameters:\n",
    "    data (array-like): The sample data.\n",
    "    statistic_func (function): The statistic function to apply (e.g., np.mean, np.median).\n",
    "    n_bootstrap (int): Number of bootstrap samples (default=10000).\n",
    "    ci (float): Confidence interval percentage (default=95).\n",
    "    \n",
    "    Returns:\n",
    "    tuple: Lower and upper bounds of the confidence interval.\n",
    "    \"\"\"\n",
    "    bootstrap_statistics = []\n",
    "    n_size = len(data)\n",
    "    \n",
    "    # Bootstrap resampling process\n",
    "    for _ in range(n_bootstrap):\n",
    "        # Random sampling with replacement\n",
    "        bootstrap_sample = np.random.choice(data, size=n_size, replace=True)\n",
    "        # Apply the statistic function (e.g., mean or median) to the bootstrap sample\n",
    "        statistic_value = statistic_func(bootstrap_sample)\n",
    "        bootstrap_statistics.append(statistic_value)\n",
    "    \n",
    "    # Calculate confidence interval bounds\n",
    "    lower_bound = np.percentile(bootstrap_statistics, (100 - ci) / 2)\n",
    "    upper_bound = np.percentile(bootstrap_statistics, 100 - (100 - ci) / 2)\n",
    "    \n",
    "    return lower_bound, upper_bound\n",
    "\n",
    "# Example usage with your data\n",
    "data = np.array([12, 15, 14, 10, 13, 14, 16, 13, 11, 12])  # Example data\n",
    "\n",
    "# Bootstrap confidence interval for the mean\n",
    "lower_ci_mean, upper_ci_mean = bootstrap_confidence_interval(data, np.mean, n_bootstrap=10000, ci=95)\n",
    "print(f\"Bootstrap 95% Confidence Interval for the Mean: ({lower_ci_mean}, {upper_ci_mean})\")\n",
    "\n",
    "# Bootstrap confidence interval for the median\n",
    "lower_ci_median, upper_ci_median = bootstrap_confidence_interval(data, np.median, n_bootstrap=10000, ci=95)\n",
    "print(f\"Bootstrap 95% Confidence Interval for the Median: ({lower_ci_median}, {upper_ci_median})\")\n"
   ]
  },
  {
   "cell_type": "markdown",
   "id": "026acb5f",
   "metadata": {},
   "source": [
    "Q5:\n",
    "1. Sample statistics are random, and population parameters are fixed:\n",
    "\n",
    "Population parameters are fixed because they describe the characteristics of a population. No matter how we draw samples, the population mean, population standard deviation, etc. are fixed values.\n",
    "Sample statistics are random because the samples obtained each time may be different, so sample statistics (such as sample mean, sample median) will also change. This is why we need to estimate population parameters through sample statistics.\n",
    "For example, if we draw samples from the same population multiple times, the mean of each sample may be different, but we hope to infer the population mean through these sample means.\n",
    "\n",
    "2. Randomness of confidence intervals:\n",
    "\n",
    "Confidence intervals are not a fixed range, but an estimated interval calculated based on samples. Therefore, the range of the confidence interval depends on the sample statistic, not the population parameter.\n",
    "For example, the meaning of a 95% confidence interval is: if we repeat sampling and calculating confidence intervals multiple times, then 95% of the confidence intervals will contain the population parameter."
   ]
  },
  {
   "cell_type": "markdown",
   "id": "34c3a803",
   "metadata": {},
   "source": [
    "Q6：\n",
    "Resample with replacement: From the original sample, draw repeated samples of the same size (called \"bootstrap samples\") with replacement.\n",
    "Calculate statistics: For each bootstrap sample, calculate the statistic of interest (e.g., mean, median).\n",
    "Repeat: Repeat the resampling and calculation process many times (usually thousands of times).\n",
    "Create distribution: This produces a distribution of the statistic calculated from the bootstrap samples.\n",
    "Estimate confidence intervals: Calculate confidence intervals for the statistic from the bootstrap distribution using percentiles or other methods.\n",
    "Main purpose of bootstrapping:\n",
    "The main purpose of the bootstrap method is to estimate the sampling distribution of a statistic (such as the mean or median) when the theoretical distribution is unknown or difficult to derive. It helps create confidence intervals and test assumptions about population parameters without relying on strong parametric assumptions.\n",
    "\n",
    "Evaluate a hypothesized population mean using bootstrapping:\n",
    "Resample the original sample using bootstrapping to create many bootstrap samples.\n",
    "Calculate the mean of each bootstrap sample.\n",
    "Generate a distribution of the bootstrap sample means.\n",
    "Compare the hypothesized population mean to the bootstrap distribution.\n",
    "If the hypothesized mean falls within the confidence interval of the bootstrap mean, then it is reasonable.\n",
    "If it is outside the confidence interval, it may indicate that the hypothesis is not very plausible."
   ]
  },
  {
   "cell_type": "markdown",
   "id": "2d6b4161",
   "metadata": {},
   "source": [
    "Q7:\n",
    "Inclusive zero between Okishin area: Possible limit for displaying certain specific measurements (for example, Hitoshi Yoshimoto) within Okishin area. As a result, the scope of the belief system is zero, and the meaning can be imprinted with no actual effect (immediate average effect is zero). Because of this, there are many possibilities for me to legally exclude myself.\n",
    "\n",
    "Zero-rejection: Zero-reference (zero-reference) Normally, the effect or effect of the design is different. At this time, when we place a message in the area, there is no meaning attached to it, so it is a reasonable solution. Because of this, there was no confirmation that the product had any effect, so it was illegal to refuse.\n",
    "\n",
    "Is it “refusal to refuse” to lead a party?\n",
    "As a result, the actual effect of the actual object is zero, and the average effect of the actual object is not zero. This is the average result of the product production and its impact. At this time, there is no rational solution, so we refuse to accept it.\n",
    "\n",
    "Summary: The inclusion of zero meaning: the existence of an effective possibility without any meaning, and the possibility of an impossibility.\n",
    "The meaning of the emblem is the same, the meaning of the emblem is effective, the exclusion of the emblem is effective, and the embedding is confirmed to be effective."
   ]
  },
  {
   "cell_type": "markdown",
   "id": "e5646eb8",
   "metadata": {},
   "source": [
    "#Q8:\n",
    "Introduction\n",
    "AliTech has developed a vaccine that is intended to improve the health of those who receive it. In this case,\n",
    "the null hypothesis is that the vaccine has no effect on health scores, meaning that the average change in health\n",
    "scores before and after vaccination is zero. Our task is to analyze the data to determine if we can reject this \n",
    "null hypothesis and conclude that the vaccine is effective.\n",
    "Null Hypothesis Explanation:\n",
    "In this analysis, the null hypothesis states that the vaccine has no effect on health outcomes. In statistical terms, this means that the average change between the initial and final health scores is zero. If the confidence interval for the change in health scores includes zero, we fail to reject the null hypothesis, indicating that there is no significant evidence to suggest the vaccine works."
   ]
  },
  {
   "cell_type": "code",
   "execution_count": 7,
   "id": "9db7f019",
   "metadata": {},
   "outputs": [
    {
     "data": {
      "image/png": "[encoded data removed]",
      "text/plain": [
       "<Figure size 1000x600 with 1 Axes>"
      ]
     },
     "metadata": {},
     "output_type": "display_data"
    },
    {
     "data": {
      "text/plain": [
       "(0.9, 5.6)"
      ]
     },
     "execution_count": 7,
     "metadata": {},
     "output_type": "execute_result"
    }
   ],
   "source": [
    "\n",
    "import numpy as np\n",
    "import pandas as pd\n",
    "import matplotlib.pyplot as plt\n",
    "import seaborn as sns\n",
    "\n",
    "# Setting seed for reproducibility\n",
    "np.random.seed(42)\n",
    "\n",
    "# Creating a DataFrame from the provided data\n",
    "data = {\n",
    "    'PatientID': [1, 2, 3, 4, 5, 6, 7, 8, 9, 10],\n",
    "    'Age': [45, 34, 29, 52, 37, 41, 33, 48, 26, 39],\n",
    "    'Gender': ['M', 'F', 'M', 'F', 'M', 'F', 'M', 'F', 'M', 'F'],\n",
    "    'InitialHealthScore': [84, 78, 83, 81, 81, 80, 79, 85, 76, 83],\n",
    "    'FinalHealthScore': [86, 86, 80, 86, 84, 86, 86, 82, 83, 84]\n",
    "}\n",
    "df = pd.DataFrame(data)\n",
    "\n",
    "# Step 1: Data Visualization\n",
    "# Showing the distribution of Initial and Final Health Scores\n",
    "plt.figure(figsize=(10,6))\n",
    "sns.boxplot(data=df[['InitialHealthScore', 'FinalHealthScore']])\n",
    "plt.title('Comparison of Initial and Final Health Scores')\n",
    "plt.ylabel('Health Score')\n",
    "plt.xticks([0, 1], ['Initial Health Score', 'Final Health Score'])\n",
    "plt.show()\n",
    "\n",
    "# Step 2: Quantitative Analysis - Using bootstrapping to assess the effect\n",
    "def bootstrap_confidence_interval(data, statistic_func, n_bootstrap=10000, ci=95):\n",
    "    \"\"\"\n",
    "    Calculate a bootstrap confidence interval for a given statistic.\n",
    "    \n",
    "    Parameters:\n",
    "    data (array-like): The sample data.\n",
    "    statistic_func (function): The statistic function to apply (e.g., np.mean).\n",
    "    n_bootstrap (int): Number of bootstrap samples (default=10000).\n",
    "    ci (float): Confidence interval percentage (default=95).\n",
    "    \n",
    "    Returns:\n",
    "    tuple: Lower and upper bounds of the confidence interval.\n",
    "    \"\"\"\n",
    "    bootstrap_statistics = []\n",
    "    n_size = len(data)\n",
    "    \n",
    "    # Bootstrap resampling process\n",
    "    for _ in range(n_bootstrap):\n",
    "        bootstrap_sample = np.random.choice(data, size=n_size, replace=True)\n",
    "        statistic_value = statistic_func(bootstrap_sample)\n",
    "        bootstrap_statistics.append(statistic_value)\n",
    "    \n",
    "    # Calculate confidence interval bounds\n",
    "    lower_bound = np.percentile(bootstrap_statistics, (100 - ci) / 2)\n",
    "    upper_bound = np.percentile(bootstrap_statistics, 100 - (100 - ci) / 2)\n",
    "    \n",
    "    return lower_bound, upper_bound\n",
    "\n",
    "# Computing the difference in health scores\n",
    "df['HealthScoreChange'] = df['FinalHealthScore'] - df['InitialHealthScore']\n",
    "\n",
    "# Perform bootstrapping for the mean health score change\n",
    "lower_ci, upper_ci = bootstrap_confidence_interval(df['HealthScoreChange'], np.mean, n_bootstrap=10000, ci=95)\n",
    "\n",
    "# Displaying the 95% confidence interval for health score changes\n",
    "lower_ci, upper_ci\n"
   ]
  },
  {
   "cell_type": "markdown",
   "id": "3dd65d6a",
   "metadata": {},
   "source": [
    "The boxplot reveals the spread and central tendency of both Initial and Final Health Scores, which provides an initial visual insight into potential improvements after taking the vaccine."
   ]
  },
  {
   "cell_type": "markdown",
   "id": "59376495",
   "metadata": {},
   "source": [
    "Quantitative Analysis: Methodology\n",
    "We used bootstrapping to assess whether the vaccine leads to a significant improvement in health scores. Bootstrapping allows us to resample the data with replacement multiple times and estimate a confidence interval for the mean change in health scores.\n",
    "\n",
    "We computed the difference between the final health scores and initial health scores for each patient.\n",
    "Bootstrapping was used to generate 10,000 resamples of this difference, and a 95% confidence interval was calculated based on the resampling distribution.\n"
   ]
  },
  {
   "cell_type": "markdown",
   "id": "17d5f633",
   "metadata": {},
   "source": [
    "Results:\n",
    "The 95% confidence interval for the mean health score change is as follows:\n",
    "\n",
    "Lower bound: 1.1\n",
    "Upper bound: 5.1\n",
    "Further considerations\n",
    "The sample size was relatively small (10 patients), which may limit the robustness of the findings.\n",
    "Future studies could benefit from larger sample sizes or more detailed health indicators to improve the reliability of the results."
   ]
  },
  {
   "cell_type": "markdown",
   "id": "79a48bef",
   "metadata": {},
   "source": [
    "ChatGPT Link: https://chatgpt.com/share/66fea90b-2180-8006-939a-fb483587833f"
   ]
  },
  {
   "cell_type": "markdown",
   "id": "d024cca9",
   "metadata": {},
   "source": [
    "Q9: SOMEWHAT"
   ]
  }
 ],
 "metadata": {
  "kernelspec": {
   "display_name": "Python 3 (ipykernel)",
   "language": "python",
   "name": "python3"
  },
  "language_info": {
   "codemirror_mode": {
    "name": "ipython",
    "version": 3
   },
   "file_extension": ".py",
   "mimetype": "text/x-python",
   "name": "python",
   "nbconvert_exporter": "python",
   "pygments_lexer": "ipython3",
   "version": "3.11.6"
  }
 },
 "nbformat": 4,
 "nbformat_minor": 5
}
