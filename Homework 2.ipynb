{
 "cells": [
  {
   "cell_type": "markdown",
   "id": "c4b6ccb9",
   "metadata": {},
   "source": [
    "Pre-Lecture HomeWork"
   ]
  },
  {
   "cell_type": "code",
   "execution_count": 4,
   "id": "b68ac8cb",
   "metadata": {},
   "outputs": [
    {
     "name": "stdout",
     "output_type": "stream",
     "text": [
      "0.6602\n"
     ]
    }
   ],
   "source": [
    "#Q1\n",
    "import numpy as np\n",
    "\n",
    "reps = 100\n",
    "i_won = 0\n",
    "all_door_options = (1, 2, 3)  # tuple of door numbers\n",
    "\n",
    "for _ in range(reps):\n",
    "    secret_winning_door = np.random.choice(all_door_options)\n",
    "    my_door_choice = np.random.choice(all_door_options)  # Randomize initial choice each time\n",
    "    all_door_options_list = list(all_door_options)\n",
    "    all_door_options_list.remove(secret_winning_door)\n",
    "    \n",
    "    try:\n",
    "        all_door_options_list.remove(my_door_choice)\n",
    "    except ValueError:\n",
    "        pass\n",
    "\n",
    "    if len(all_door_options_list) > 0:\n",
    "        goat_door_reveal = np.random.choice(all_door_options_list)\n",
    "        all_door_options_list.remove(goat_door_reveal)\n",
    "\n",
    "    # Append winning door back if it's not our initial choice\n",
    "    if secret_winning_door != my_door_choice:\n",
    "        all_door_options_list.append(secret_winning_door)\n",
    "    \n",
    "    # Switch the door\n",
    "    my_door_choice = all_door_options_list[0]\n",
    "\n",
    "    if my_door_choice == secret_winning_door:\n",
    "        i_won += 1\n",
    "\n",
    "print(i_won / reps)\n"
   ]
  },
  {
   "cell_type": "code",
   "execution_count": 2,
   "id": "421ef7ee",
   "metadata": {},
   "outputs": [
    {
     "name": "stdout",
     "output_type": "stream",
     "text": [
      "Winning Probability: 0.72\n"
     ]
    }
   ],
   "source": [
    "#Q2/3\n",
    "import numpy as np\n",
    "\n",
    "# Set the number of simulations\n",
    "reps = 100\n",
    "wins = 0\n",
    "\n",
    "for _ in range(reps):\n",
    "    doors = [1, 2, 3]\n",
    "    winning_door = np.random.choice(doors)\n",
    "    player_choice = np.random.choice(doors)\n",
    "\n",
    "    # Host reveals a goat door from the remaining doors\n",
    "    remaining_doors = [door for door in doors if door != player_choice and door != winning_door]\n",
    "    if not remaining_doors:  # If the player initially chose the winning door\n",
    "        remaining_doors = [door for door in doors if door != player_choice]  # Host randomly picks one to open\n",
    "    goat_door_reveal = np.random.choice(remaining_doors)\n",
    "\n",
    "    # Player switches to the other remaining door\n",
    "    switch_to_door = [door for door in doors if door != player_choice and door != goat_door_reveal][0]\n",
    "\n",
    "    # Check if the switched door is the winning door\n",
    "    if switch_to_door == winning_door:\n",
    "        wins += 1\n",
    "\n",
    "# Calculate the winning probability\n",
    "win_probability = wins / reps\n",
    "print(\"Winning Probability:\", win_probability)\n"
   ]
  },
  {
   "cell_type": "code",
   "execution_count": null,
   "id": "c667e39e",
   "metadata": {},
   "outputs": [],
   "source": [
    "Q1-3 ChatGPT Link: https://chatgpt.com/share/66ecd2a2-1b5c-8006-a861-50c374d2b250\n",
    "Q1-4 ChatGPT Link：https://chatgpt.com/share/66ecd2a2-1b5c-8006-a861-50c374d2b250"
   ]
  },
  {
   "cell_type": "markdown",
   "id": "8d1c41e6",
   "metadata": {},
   "source": [
    "#Q5\n",
    "https://chatgpt.com/share/66ecdda4-b348-8006-9557-4a5cd4f5a212"
   ]
  },
  {
   "cell_type": "markdown",
   "id": "468c0e07",
   "metadata": {},
   "source": [
    "Q6\n",
    "6.1     Based on my previous experience with ChatGPT, it can write code and explain the principles for me in a very short time, \n",
    "as well as write a detailed summary of knowledge points.\n",
    "6.2     In the communication with ChatGPT, it can understand what I mean and answer my questions. There are rarely situations \n",
    "where its answers make me dissatisfied or incomprehensible. It's just that sometimes, it can't answer well in a normal human\n",
    "way of thinking, which sometimes bothers me. For this situation, I usually break my questions into multiple small parts, \n",
    "because I find that the clearer the things I need to answer, the more accurate its answers will be.\n",
    "6.3     In summary, I think there are three points to note. First, you should clearly explain your own questions and the \n",
    "background of the questions so that ChatGPT can better understand the situation. Second, clearly understand what questions \n",
    "I need to ask to avoid letting it not know from which angle to answer me. Finally, you should cut the questions in an orderly\n",
    "manner so that it can answer complex questions in an orderly manner."
   ]
  },
  {
   "cell_type": "markdown",
   "id": "44e50dee",
   "metadata": {},
   "source": [
    "Q7\n",
    "        This is the third time I have used ChatGPT to assist me in completing the STA course, twice for homework and once for the preview of LEC. My feeling is that I gradually understand how to let it help me understand some problems, instead of telling it all the homework requirements at the beginning and then copying and pasting in its large amount of text. After I have clarified my needs and purposes (such as code or understanding problems), ChatGPT will tell me the answers I want very efficiently and accurately. For such artificial intelligence-assisted tools, my opinion is to use them as much as possible to save time and unnecessary energy, but still have your own thinking. For example, in the early stages of the course, I prefer to use ChatGPT to help me understand and compile the code, because I can't edit it myself now. After understanding and memorizing it again and again, I hope that I can gradually complete the compilation of the code independently in the middle of the course (at least clarify the principles and applications of each basic code) to achieve the purpose of taking this course."
   ]
  },
  {
   "cell_type": "code",
   "execution_count": null,
   "id": "0d22083d",
   "metadata": {},
   "outputs": [],
   "source": [
    "Q8 ChatGPT Link: https://chatgpt.com/share/66ecdc14-ed88-8006-97bf-9acf64a8cee0"
   ]
  },
  {
   "cell_type": "markdown",
   "id": "b375282b",
   "metadata": {},
   "source": [
    "Q9 \n",
    "        It's a little better than the first time, but I still have to answer Somewhat."
   ]
  }
 ],
 "metadata": {
  "kernelspec": {
   "display_name": "Python 3 (ipykernel)",
   "language": "python",
   "name": "python3"
  },
  "language_info": {
   "codemirror_mode": {
    "name": "ipython",
    "version": 3
   },
   "file_extension": ".py",
   "mimetype": "text/x-python",
   "name": "python",
   "nbconvert_exporter": "python",
   "pygments_lexer": "ipython3",
   "version": "3.11.6"
  }
 },
 "nbformat": 4,
 "nbformat_minor": 5
}
